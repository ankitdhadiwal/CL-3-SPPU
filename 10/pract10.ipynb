{
 "cells": [
  {
   "cell_type": "code",
   "execution_count": 1,
   "id": "d12e5f6d",
   "metadata": {},
   "outputs": [
    {
     "name": "stdout",
     "output_type": "stream",
     "text": [
      "Collecting mrjob\n",
      "  Obtaining dependency information for mrjob from https://files.pythonhosted.org/packages/8e/58/fc28ab743aba16e90736ad4e29694bd2adaf7b879376ff149306d50c4e90/mrjob-0.7.4-py2.py3-none-any.whl.metadata\n",
      "  Downloading mrjob-0.7.4-py2.py3-none-any.whl.metadata (7.3 kB)\n",
      "Requirement already satisfied: PyYAML>=3.10 in c:\\users\\hp\\anaconda3\\lib\\site-packages (from mrjob) (6.0)\n",
      "Downloading mrjob-0.7.4-py2.py3-none-any.whl (439 kB)\n",
      "   ---------------------------------------- 0.0/439.6 kB ? eta -:--:--\n",
      "   ---------------------------------------- 0.0/439.6 kB ? eta -:--:--\n",
      "   ---------------------------------------- 0.0/439.6 kB ? eta -:--:--\n",
      "   - ------------------------------------- 20.5/439.6 kB 640.0 kB/s eta 0:00:01\n",
      "   - ------------------------------------- 20.5/439.6 kB 640.0 kB/s eta 0:00:01\n",
      "   --- ----------------------------------- 41.0/439.6 kB 279.3 kB/s eta 0:00:02\n",
      "   ---- ---------------------------------- 51.2/439.6 kB 260.9 kB/s eta 0:00:02\n",
      "   -------- ----------------------------- 102.4/439.6 kB 451.8 kB/s eta 0:00:01\n",
      "   -------- ----------------------------- 102.4/439.6 kB 451.8 kB/s eta 0:00:01\n",
      "   -------- ----------------------------- 102.4/439.6 kB 451.8 kB/s eta 0:00:01\n",
      "   ------------------ ------------------- 215.0/439.6 kB 654.3 kB/s eta 0:00:01\n",
      "   ------------------ ------------------- 215.0/439.6 kB 654.3 kB/s eta 0:00:01\n",
      "   ---------------------------------------- 439.6/439.6 kB 1.0 MB/s eta 0:00:00\n",
      "Installing collected packages: mrjob\n",
      "Successfully installed mrjob-0.7.4\n",
      "Note: you may need to restart the kernel to use updated packages.\n"
     ]
    }
   ],
   "source": [
    "pip install mrjob"
   ]
  },
  {
   "cell_type": "code",
   "execution_count": 6,
   "id": "2a452ccb",
   "metadata": {},
   "outputs": [
    {
     "name": "stdout",
     "output_type": "stream",
     "text": [
      "Index(['Location', 'Date_Time', 'Temperature_C', 'Humidity_pct',\n",
      "       'Precipitation_mm', 'Wind_Speed_kmh'],\n",
      "      dtype='object')\n",
      "Hottest Year: 2024.0 with Avg Temp: 14.779704927042093°C\n",
      "Coolest Year: 2024.0 with Avg Temp: 14.779704927042093°C\n"
     ]
    }
   ],
   "source": [
    "import pandas as pd\n",
    "from collections import defaultdict\n",
    "\n",
    "# Load dataset\n",
    "df = pd.read_csv('weather_data.csv')\n",
    "\n",
    "# Print columns to debug\n",
    "print(df.columns)\n",
    "\n",
    "# Ensure no leading/trailing spaces in column names\n",
    "df.columns = df.columns.str.strip()\n",
    "\n",
    "# Extract year and temperature\n",
    "df['Year'] = pd.to_datetime(df['Date_Time']).dt.year\n",
    "df['Temperature'] = df['Temperature_C'].astype(float)\n",
    "\n",
    "# Mapper: Emit (year, temperature)\n",
    "mapped_data = df[['Year', 'Temperature']].values\n",
    "\n",
    "# Reducer: Aggregate by year and compute average temperature\n",
    "yearly_temps = defaultdict(list)\n",
    "for year, temp in mapped_data:\n",
    "    yearly_temps[year].append(temp)\n",
    "\n",
    "avg_temps = {year: sum(temps)/len(temps) for year, temps in yearly_temps.items()}\n",
    "\n",
    "# Find hottest and coolest years\n",
    "hottest_year = max(avg_temps, key=avg_temps.get)\n",
    "coolest_year = min(avg_temps, key=avg_temps.get)\n",
    "\n",
    "print(f\"Hottest Year: {hottest_year} with Avg Temp: {avg_temps[hottest_year]}°C\")\n",
    "print(f\"Coolest Year: {coolest_year} with Avg Temp: {avg_temps[coolest_year]}°C\")\n"
   ]
  },
  {
   "cell_type": "code",
   "execution_count": 5,
   "id": "ad284920",
   "metadata": {},
   "outputs": [
    {
     "name": "stdout",
     "output_type": "stream",
     "text": [
      "Index(['Location', 'Date_Time', 'Temperature_C', 'Humidity_pct',\n",
      "       'Precipitation_mm', 'Wind_Speed_kmh'],\n",
      "      dtype='object')\n"
     ]
    }
   ],
   "source": [
    "print(df.columns)"
   ]
  },
  {
   "cell_type": "code",
   "execution_count": null,
   "id": "2e26f33e",
   "metadata": {},
   "outputs": [],
   "source": []
  }
 ],
 "metadata": {
  "kernelspec": {
   "display_name": "Python 3 (ipykernel)",
   "language": "python",
   "name": "python3"
  },
  "language_info": {
   "codemirror_mode": {
    "name": "ipython",
    "version": 3
   },
   "file_extension": ".py",
   "mimetype": "text/x-python",
   "name": "python",
   "nbconvert_exporter": "python",
   "pygments_lexer": "ipython3",
   "version": "3.11.5"
  }
 },
 "nbformat": 4,
 "nbformat_minor": 5
}
